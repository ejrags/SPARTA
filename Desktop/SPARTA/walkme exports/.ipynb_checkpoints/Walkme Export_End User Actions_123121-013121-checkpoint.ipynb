{
 "cells": [
  {
   "cell_type": "markdown",
   "metadata": {},
   "source": [
    "# Walkme Export \"End User Actions\" 12/31/21-01/31/21"
   ]
  },
  {
   "cell_type": "markdown",
   "metadata": {},
   "source": [
    "### Importing libraries"
   ]
  },
  {
   "cell_type": "code",
   "execution_count": 2,
   "metadata": {},
   "outputs": [],
   "source": [
    "import pandas as pd\n",
    "import matplotlib.pyplot as plt\n",
    "import seaborn as sns\n",
    "%matplotlib inline"
   ]
  },
  {
   "cell_type": "markdown",
   "metadata": {},
   "source": [
    "### Loading Dataset"
   ]
  },
  {
   "cell_type": "code",
   "execution_count": 3,
   "metadata": {},
   "outputs": [],
   "source": [
    "df = pd.read_csv('End User Actions  2021-01-14_2021-02-12.csv')"
   ]
  },
  {
   "cell_type": "code",
   "execution_count": 4,
   "metadata": {},
   "outputs": [
    {
     "data": {
      "text/html": [
       "<div>\n",
       "<style scoped>\n",
       "    .dataframe tbody tr th:only-of-type {\n",
       "        vertical-align: middle;\n",
       "    }\n",
       "\n",
       "    .dataframe tbody tr th {\n",
       "        vertical-align: top;\n",
       "    }\n",
       "\n",
       "    .dataframe thead th {\n",
       "        text-align: right;\n",
       "    }\n",
       "</style>\n",
       "<table border=\"1\" class=\"dataframe\">\n",
       "  <thead>\n",
       "    <tr style=\"text-align: right;\">\n",
       "      <th></th>\n",
       "      <th>Datetime</th>\n",
       "      <th>User ID</th>\n",
       "      <th>Interaction Type</th>\n",
       "      <th>Item Name</th>\n",
       "      <th>URL</th>\n",
       "    </tr>\n",
       "  </thead>\n",
       "  <tbody>\n",
       "    <tr>\n",
       "      <th>0</th>\n",
       "      <td>2021-02-11 09:19:38.594</td>\n",
       "      <td>assanchez@globe.com.ph.eg</td>\n",
       "      <td>Player</td>\n",
       "      <td>NaN</td>\n",
       "      <td>https://globe.lightning.force.com/lightning/r/...</td>\n",
       "    </tr>\n",
       "    <tr>\n",
       "      <th>1</th>\n",
       "      <td>2021-02-11 00:17:19.511</td>\n",
       "      <td>bslacsamana@globe.com.ph.sg</td>\n",
       "      <td>ShoutOut</td>\n",
       "      <td>AM Reports ShoutOut</td>\n",
       "      <td>https://globe.lightning.force.com/lightning/o/...</td>\n",
       "    </tr>\n",
       "    <tr>\n",
       "      <th>2</th>\n",
       "      <td>2021-02-11 00:17:19.562</td>\n",
       "      <td>bslacsamana@globe.com.ph.sg</td>\n",
       "      <td>Player</td>\n",
       "      <td>NaN</td>\n",
       "      <td>https://globe.lightning.force.com/lightning/o/...</td>\n",
       "    </tr>\n",
       "  </tbody>\n",
       "</table>\n",
       "</div>"
      ],
      "text/plain": [
       "                  Datetime                      User ID Interaction Type  \\\n",
       "0  2021-02-11 09:19:38.594    assanchez@globe.com.ph.eg           Player   \n",
       "1  2021-02-11 00:17:19.511  bslacsamana@globe.com.ph.sg         ShoutOut   \n",
       "2  2021-02-11 00:17:19.562  bslacsamana@globe.com.ph.sg           Player   \n",
       "\n",
       "             Item Name                                                URL  \n",
       "0                  NaN  https://globe.lightning.force.com/lightning/r/...  \n",
       "1  AM Reports ShoutOut  https://globe.lightning.force.com/lightning/o/...  \n",
       "2                  NaN  https://globe.lightning.force.com/lightning/o/...  "
      ]
     },
     "execution_count": 4,
     "metadata": {},
     "output_type": "execute_result"
    }
   ],
   "source": [
    "df.head(3)"
   ]
  },
  {
   "cell_type": "code",
   "execution_count": 7,
   "metadata": {},
   "outputs": [],
   "source": [
    "df['Date and Time'] = pd.to_datetime(df.Datetime)"
   ]
  },
  {
   "cell_type": "code",
   "execution_count": 8,
   "metadata": {},
   "outputs": [],
   "source": [
    "df['date'] = df['Date and Time'].dt.date"
   ]
  },
  {
   "cell_type": "code",
   "execution_count": 72,
   "metadata": {},
   "outputs": [
    {
     "name": "stderr",
     "output_type": "stream",
     "text": [
      "C:\\Users\\Service Unit\\anaconda3\\lib\\site-packages\\seaborn\\_decorators.py:36: FutureWarning: Pass the following variable as a keyword arg: x. From version 0.12, the only valid positional argument will be `data`, and passing other arguments without an explicit keyword will result in an error or misinterpretation.\n",
      "  warnings.warn(\n"
     ]
    },
    {
     "data": {
      "text/plain": [
       "<seaborn.axisgrid.FacetGrid at 0x173021cdcd0>"
      ]
     },
     "execution_count": 72,
     "metadata": {},
     "output_type": "execute_result"
    },
    {
     "data": {
      "image/png": "[encoded data removed]",
      "text/plain": [
       "<Figure size 1221.62x360 with 1 Axes>"
      ]
     },
     "metadata": {
      "needs_background": "light"
     },
     "output_type": "display_data"
    }
   ],
   "source": [
    "g = sns.catplot('date', data=df, aspect=3, kind=\"count\",hue='Interaction Type',palette='viridis')\n",
    "g.set_xticklabels(rotation=45)"
   ]
  },
  {
   "cell_type": "code",
   "execution_count": 107,
   "metadata": {},
   "outputs": [],
   "source": [
    "shoutout_data=df[df['Interaction Type']=='ShoutOut'].groupby('date').count()\n"
   ]
  },
  {
   "cell_type": "raw",
   "metadata": {},
   "source": []
  },
  {
   "cell_type": "code",
   "execution_count": 62,
   "metadata": {
    "scrolled": true
   },
   "outputs": [
    {
     "data": {
      "text/html": [
       "<div>\n",
       "<style scoped>\n",
       "    .dataframe tbody tr th:only-of-type {\n",
       "        vertical-align: middle;\n",
       "    }\n",
       "\n",
       "    .dataframe tbody tr th {\n",
       "        vertical-align: top;\n",
       "    }\n",
       "\n",
       "    .dataframe thead th {\n",
       "        text-align: right;\n",
       "    }\n",
       "</style>\n",
       "<table border=\"1\" class=\"dataframe\">\n",
       "  <thead>\n",
       "    <tr style=\"text-align: right;\">\n",
       "      <th></th>\n",
       "      <th>Datetime</th>\n",
       "      <th>User ID</th>\n",
       "      <th>Interaction Type</th>\n",
       "      <th>URL</th>\n",
       "      <th>Date and Time</th>\n",
       "      <th>date</th>\n",
       "    </tr>\n",
       "    <tr>\n",
       "      <th>Item Name</th>\n",
       "      <th></th>\n",
       "      <th></th>\n",
       "      <th></th>\n",
       "      <th></th>\n",
       "      <th></th>\n",
       "      <th></th>\n",
       "    </tr>\n",
       "  </thead>\n",
       "  <tbody>\n",
       "    <tr>\n",
       "      <th>AM Reports Navigation</th>\n",
       "      <td>3</td>\n",
       "      <td>3</td>\n",
       "      <td>3</td>\n",
       "      <td>3</td>\n",
       "      <td>3</td>\n",
       "      <td>3</td>\n",
       "    </tr>\n",
       "    <tr>\n",
       "      <th>Check Orchestration Plan</th>\n",
       "      <td>1</td>\n",
       "      <td>1</td>\n",
       "      <td>1</td>\n",
       "      <td>1</td>\n",
       "      <td>1</td>\n",
       "      <td>1</td>\n",
       "    </tr>\n",
       "    <tr>\n",
       "      <th>Create Contract</th>\n",
       "      <td>2</td>\n",
       "      <td>2</td>\n",
       "      <td>2</td>\n",
       "      <td>2</td>\n",
       "      <td>2</td>\n",
       "      <td>2</td>\n",
       "    </tr>\n",
       "    <tr>\n",
       "      <th>Create an Opportunity SG</th>\n",
       "      <td>1</td>\n",
       "      <td>1</td>\n",
       "      <td>1</td>\n",
       "      <td>1</td>\n",
       "      <td>1</td>\n",
       "      <td>1</td>\n",
       "    </tr>\n",
       "    <tr>\n",
       "      <th>Manage Opportunity</th>\n",
       "      <td>2</td>\n",
       "      <td>2</td>\n",
       "      <td>2</td>\n",
       "      <td>2</td>\n",
       "      <td>2</td>\n",
       "      <td>2</td>\n",
       "    </tr>\n",
       "  </tbody>\n",
       "</table>\n",
       "</div>"
      ],
      "text/plain": [
       "                          Datetime  User ID  Interaction Type  URL  \\\n",
       "Item Name                                                            \n",
       "AM Reports Navigation            3        3                 3    3   \n",
       "Check Orchestration Plan         1        1                 1    1   \n",
       "Create Contract                  2        2                 2    2   \n",
       "Create an Opportunity SG         1        1                 1    1   \n",
       "Manage Opportunity               2        2                 2    2   \n",
       "\n",
       "                          Date and Time  date  \n",
       "Item Name                                      \n",
       "AM Reports Navigation                 3     3  \n",
       "Check Orchestration Plan              1     1  \n",
       "Create Contract                       2     2  \n",
       "Create an Opportunity SG              1     1  \n",
       "Manage Opportunity                    2     2  "
      ]
     },
     "execution_count": 62,
     "metadata": {},
     "output_type": "execute_result"
    }
   ],
   "source": [
    "df[df['Interaction Type']=='Smart WalkThru'].groupby('Item Name').count()"
   ]
  },
  {
   "cell_type": "code",
   "execution_count": 63,
   "metadata": {},
   "outputs": [
    {
     "data": {
      "text/html": [
       "<div>\n",
       "<style scoped>\n",
       "    .dataframe tbody tr th:only-of-type {\n",
       "        vertical-align: middle;\n",
       "    }\n",
       "\n",
       "    .dataframe tbody tr th {\n",
       "        vertical-align: top;\n",
       "    }\n",
       "\n",
       "    .dataframe thead th {\n",
       "        text-align: right;\n",
       "    }\n",
       "</style>\n",
       "<table border=\"1\" class=\"dataframe\">\n",
       "  <thead>\n",
       "    <tr style=\"text-align: right;\">\n",
       "      <th></th>\n",
       "      <th>Datetime</th>\n",
       "      <th>User ID</th>\n",
       "      <th>Interaction Type</th>\n",
       "      <th>URL</th>\n",
       "      <th>Date and Time</th>\n",
       "      <th>date</th>\n",
       "    </tr>\n",
       "    <tr>\n",
       "      <th>Item Name</th>\n",
       "      <th></th>\n",
       "      <th></th>\n",
       "      <th></th>\n",
       "      <th></th>\n",
       "      <th></th>\n",
       "      <th></th>\n",
       "    </tr>\n",
       "  </thead>\n",
       "  <tbody>\n",
       "    <tr>\n",
       "      <th>Auto created Switch Step</th>\n",
       "      <td>2</td>\n",
       "      <td>2</td>\n",
       "      <td>2</td>\n",
       "      <td>2</td>\n",
       "      <td>2</td>\n",
       "      <td>2</td>\n",
       "    </tr>\n",
       "    <tr>\n",
       "      <th>Click '[b]CREATE CONTRACT[/b]'</th>\n",
       "      <td>5</td>\n",
       "      <td>5</td>\n",
       "      <td>5</td>\n",
       "      <td>5</td>\n",
       "      <td>5</td>\n",
       "      <td>5</td>\n",
       "    </tr>\n",
       "    <tr>\n",
       "      <th>Click '[b]Related[/b]'</th>\n",
       "      <td>3</td>\n",
       "      <td>3</td>\n",
       "      <td>3</td>\n",
       "      <td>3</td>\n",
       "      <td>3</td>\n",
       "      <td>3</td>\n",
       "    </tr>\n",
       "    <tr>\n",
       "      <th>Click Show menu</th>\n",
       "      <td>2</td>\n",
       "      <td>2</td>\n",
       "      <td>2</td>\n",
       "      <td>2</td>\n",
       "      <td>2</td>\n",
       "      <td>2</td>\n",
       "    </tr>\n",
       "    <tr>\n",
       "      <th>Click Upload Circuit</th>\n",
       "      <td>2</td>\n",
       "      <td>2</td>\n",
       "      <td>2</td>\n",
       "      <td>2</td>\n",
       "      <td>2</td>\n",
       "      <td>2</td>\n",
       "    </tr>\n",
       "    <tr>\n",
       "      <th>Click the dropdown button</th>\n",
       "      <td>1</td>\n",
       "      <td>1</td>\n",
       "      <td>1</td>\n",
       "      <td>1</td>\n",
       "      <td>1</td>\n",
       "      <td>1</td>\n",
       "    </tr>\n",
       "    <tr>\n",
       "      <th>Click the dropdown menu</th>\n",
       "      <td>3</td>\n",
       "      <td>3</td>\n",
       "      <td>3</td>\n",
       "      <td>3</td>\n",
       "      <td>3</td>\n",
       "      <td>3</td>\n",
       "    </tr>\n",
       "    <tr>\n",
       "      <th>Custom Action</th>\n",
       "      <td>10</td>\n",
       "      <td>10</td>\n",
       "      <td>10</td>\n",
       "      <td>10</td>\n",
       "      <td>10</td>\n",
       "      <td>10</td>\n",
       "    </tr>\n",
       "    <tr>\n",
       "      <th>Fill in the opportunity details, and then click [b]'Next'[/b]</th>\n",
       "      <td>2</td>\n",
       "      <td>2</td>\n",
       "      <td>2</td>\n",
       "      <td>2</td>\n",
       "      <td>2</td>\n",
       "      <td>2</td>\n",
       "    </tr>\n",
       "    <tr>\n",
       "      <th>Redirect to quotes</th>\n",
       "      <td>4</td>\n",
       "      <td>4</td>\n",
       "      <td>4</td>\n",
       "      <td>4</td>\n",
       "      <td>4</td>\n",
       "      <td>4</td>\n",
       "    </tr>\n",
       "    <tr>\n",
       "      <th>Select an account.</th>\n",
       "      <td>6</td>\n",
       "      <td>6</td>\n",
       "      <td>6</td>\n",
       "      <td>6</td>\n",
       "      <td>6</td>\n",
       "      <td>6</td>\n",
       "    </tr>\n",
       "    <tr>\n",
       "      <th>Set WM Data</th>\n",
       "      <td>21</td>\n",
       "      <td>21</td>\n",
       "      <td>21</td>\n",
       "      <td>21</td>\n",
       "      <td>21</td>\n",
       "      <td>21</td>\n",
       "    </tr>\n",
       "    <tr>\n",
       "      <th>Where would you like to go?</th>\n",
       "      <td>9</td>\n",
       "      <td>9</td>\n",
       "      <td>9</td>\n",
       "      <td>9</td>\n",
       "      <td>9</td>\n",
       "      <td>9</td>\n",
       "    </tr>\n",
       "    <tr>\n",
       "      <th>[size=14]Click the order number you wish to view[/size]</th>\n",
       "      <td>2</td>\n",
       "      <td>2</td>\n",
       "      <td>2</td>\n",
       "      <td>2</td>\n",
       "      <td>2</td>\n",
       "      <td>2</td>\n",
       "    </tr>\n",
       "    <tr>\n",
       "      <th>redirect to oppty</th>\n",
       "      <td>2</td>\n",
       "      <td>2</td>\n",
       "      <td>2</td>\n",
       "      <td>2</td>\n",
       "      <td>2</td>\n",
       "      <td>2</td>\n",
       "    </tr>\n",
       "  </tbody>\n",
       "</table>\n",
       "</div>"
      ],
      "text/plain": [
       "                                                    Datetime  User ID  \\\n",
       "Item Name                                                               \n",
       "Auto created Switch Step                                   2        2   \n",
       "Click '[b]CREATE CONTRACT[/b]'                             5        5   \n",
       "Click '[b]Related[/b]'                                     3        3   \n",
       "Click Show menu                                            2        2   \n",
       "Click Upload Circuit                                       2        2   \n",
       "Click the dropdown button                                  1        1   \n",
       "Click the dropdown menu                                    3        3   \n",
       "Custom Action                                             10       10   \n",
       "Fill in the opportunity details, and then click...         2        2   \n",
       "Redirect to quotes                                         4        4   \n",
       "Select an account.                                         6        6   \n",
       "Set WM Data                                               21       21   \n",
       "Where would you like to go?                                9        9   \n",
       "[size=14]Click the order number you wish to vie...         2        2   \n",
       "redirect to oppty                                          2        2   \n",
       "\n",
       "                                                    Interaction Type  URL  \\\n",
       "Item Name                                                                   \n",
       "Auto created Switch Step                                           2    2   \n",
       "Click '[b]CREATE CONTRACT[/b]'                                     5    5   \n",
       "Click '[b]Related[/b]'                                             3    3   \n",
       "Click Show menu                                                    2    2   \n",
       "Click Upload Circuit                                               2    2   \n",
       "Click the dropdown button                                          1    1   \n",
       "Click the dropdown menu                                            3    3   \n",
       "Custom Action                                                     10   10   \n",
       "Fill in the opportunity details, and then click...                 2    2   \n",
       "Redirect to quotes                                                 4    4   \n",
       "Select an account.                                                 6    6   \n",
       "Set WM Data                                                       21   21   \n",
       "Where would you like to go?                                        9    9   \n",
       "[size=14]Click the order number you wish to vie...                 2    2   \n",
       "redirect to oppty                                                  2    2   \n",
       "\n",
       "                                                    Date and Time  date  \n",
       "Item Name                                                                \n",
       "Auto created Switch Step                                        2     2  \n",
       "Click '[b]CREATE CONTRACT[/b]'                                  5     5  \n",
       "Click '[b]Related[/b]'                                          3     3  \n",
       "Click Show menu                                                 2     2  \n",
       "Click Upload Circuit                                            2     2  \n",
       "Click the dropdown button                                       1     1  \n",
       "Click the dropdown menu                                         3     3  \n",
       "Custom Action                                                  10    10  \n",
       "Fill in the opportunity details, and then click...              2     2  \n",
       "Redirect to quotes                                              4     4  \n",
       "Select an account.                                              6     6  \n",
       "Set WM Data                                                    21    21  \n",
       "Where would you like to go?                                     9     9  \n",
       "[size=14]Click the order number you wish to vie...              2     2  \n",
       "redirect to oppty                                               2     2  "
      ]
     },
     "execution_count": 63,
     "metadata": {},
     "output_type": "execute_result"
    }
   ],
   "source": [
    "df[df['Interaction Type']=='Smart WalkThru Step'].groupby('Item Name').count()"
   ]
  },
  {
   "cell_type": "code",
   "execution_count": 64,
   "metadata": {},
   "outputs": [
    {
     "data": {
      "text/html": [
       "<div>\n",
       "<style scoped>\n",
       "    .dataframe tbody tr th:only-of-type {\n",
       "        vertical-align: middle;\n",
       "    }\n",
       "\n",
       "    .dataframe tbody tr th {\n",
       "        vertical-align: top;\n",
       "    }\n",
       "\n",
       "    .dataframe thead th {\n",
       "        text-align: right;\n",
       "    }\n",
       "</style>\n",
       "<table border=\"1\" class=\"dataframe\">\n",
       "  <thead>\n",
       "    <tr style=\"text-align: right;\">\n",
       "      <th></th>\n",
       "      <th>Datetime</th>\n",
       "      <th>User ID</th>\n",
       "      <th>Interaction Type</th>\n",
       "      <th>URL</th>\n",
       "      <th>Date and Time</th>\n",
       "      <th>date</th>\n",
       "    </tr>\n",
       "    <tr>\n",
       "      <th>Item Name</th>\n",
       "      <th></th>\n",
       "      <th></th>\n",
       "      <th></th>\n",
       "      <th></th>\n",
       "      <th></th>\n",
       "      <th></th>\n",
       "    </tr>\n",
       "  </thead>\n",
       "  <tbody>\n",
       "    <tr>\n",
       "      <th>ActionBot - Test 1/26</th>\n",
       "      <td>67</td>\n",
       "      <td>67</td>\n",
       "      <td>67</td>\n",
       "      <td>67</td>\n",
       "      <td>67</td>\n",
       "      <td>67</td>\n",
       "    </tr>\n",
       "    <tr>\n",
       "      <th>New Icon Launcher</th>\n",
       "      <td>1</td>\n",
       "      <td>1</td>\n",
       "      <td>1</td>\n",
       "      <td>1</td>\n",
       "      <td>1</td>\n",
       "      <td>1</td>\n",
       "    </tr>\n",
       "  </tbody>\n",
       "</table>\n",
       "</div>"
      ],
      "text/plain": [
       "                       Datetime  User ID  Interaction Type  URL  \\\n",
       "Item Name                                                         \n",
       "ActionBot - Test 1/26        67       67                67   67   \n",
       "New Icon Launcher             1        1                 1    1   \n",
       "\n",
       "                       Date and Time  date  \n",
       "Item Name                                   \n",
       "ActionBot - Test 1/26             67    67  \n",
       "New Icon Launcher                  1     1  "
      ]
     },
     "execution_count": 64,
     "metadata": {},
     "output_type": "execute_result"
    }
   ],
   "source": [
    "df[df['Interaction Type']=='Launcher'].groupby('Item Name').count()"
   ]
  },
  {
   "cell_type": "code",
   "execution_count": 69,
   "metadata": {},
   "outputs": [
    {
     "data": {
      "text/html": [
       "<div>\n",
       "<style scoped>\n",
       "    .dataframe tbody tr th:only-of-type {\n",
       "        vertical-align: middle;\n",
       "    }\n",
       "\n",
       "    .dataframe tbody tr th {\n",
       "        vertical-align: top;\n",
       "    }\n",
       "\n",
       "    .dataframe thead th {\n",
       "        text-align: right;\n",
       "    }\n",
       "</style>\n",
       "<table border=\"1\" class=\"dataframe\">\n",
       "  <thead>\n",
       "    <tr style=\"text-align: right;\">\n",
       "      <th></th>\n",
       "      <th>Datetime</th>\n",
       "      <th>User ID</th>\n",
       "      <th>Interaction Type</th>\n",
       "      <th>Item Name</th>\n",
       "      <th>Date and Time</th>\n",
       "      <th>date</th>\n",
       "    </tr>\n",
       "    <tr>\n",
       "      <th>URL</th>\n",
       "      <th></th>\n",
       "      <th></th>\n",
       "      <th></th>\n",
       "      <th></th>\n",
       "      <th></th>\n",
       "      <th></th>\n",
       "    </tr>\n",
       "  </thead>\n",
       "  <tbody>\n",
       "    <tr>\n",
       "      <th>https://globe.lightning.force.com/lightning/o/Case/list</th>\n",
       "      <td>1</td>\n",
       "      <td>1</td>\n",
       "      <td>1</td>\n",
       "      <td>1</td>\n",
       "      <td>1</td>\n",
       "      <td>1</td>\n",
       "    </tr>\n",
       "    <tr>\n",
       "      <th>https://globe.lightning.force.com/lightning/o/Event/home</th>\n",
       "      <td>2</td>\n",
       "      <td>2</td>\n",
       "      <td>2</td>\n",
       "      <td>2</td>\n",
       "      <td>2</td>\n",
       "      <td>2</td>\n",
       "    </tr>\n",
       "    <tr>\n",
       "      <th>https://globe.lightning.force.com/lightning/r/Account/0017F00001AQo2LQAT/view</th>\n",
       "      <td>1</td>\n",
       "      <td>1</td>\n",
       "      <td>1</td>\n",
       "      <td>1</td>\n",
       "      <td>1</td>\n",
       "      <td>1</td>\n",
       "    </tr>\n",
       "    <tr>\n",
       "      <th>https://globe.lightning.force.com/lightning/r/Case/5002u00000Cya4RAAR/view</th>\n",
       "      <td>2</td>\n",
       "      <td>2</td>\n",
       "      <td>2</td>\n",
       "      <td>2</td>\n",
       "      <td>2</td>\n",
       "      <td>2</td>\n",
       "    </tr>\n",
       "    <tr>\n",
       "      <th>https://globe.lightning.force.com/lightning/r/Dashboard/01Z7F000000RZNWUA4/view</th>\n",
       "      <td>1</td>\n",
       "      <td>1</td>\n",
       "      <td>1</td>\n",
       "      <td>1</td>\n",
       "      <td>1</td>\n",
       "      <td>1</td>\n",
       "    </tr>\n",
       "    <tr>\n",
       "      <th>https://globe.lightning.force.com/lightning/r/EmailMessage/02s2u000006OpwBAAS/view</th>\n",
       "      <td>1</td>\n",
       "      <td>1</td>\n",
       "      <td>1</td>\n",
       "      <td>1</td>\n",
       "      <td>1</td>\n",
       "      <td>1</td>\n",
       "    </tr>\n",
       "    <tr>\n",
       "      <th>https://globe.lightning.force.com/lightning/r/EmailMessage/02s2u0000077Bm6AAE/view</th>\n",
       "      <td>5</td>\n",
       "      <td>5</td>\n",
       "      <td>5</td>\n",
       "      <td>5</td>\n",
       "      <td>5</td>\n",
       "      <td>5</td>\n",
       "    </tr>\n",
       "    <tr>\n",
       "      <th>https://globe.lightning.force.com/lightning/r/Opportunity/0062u00000AtmblAAB/view</th>\n",
       "      <td>1</td>\n",
       "      <td>1</td>\n",
       "      <td>1</td>\n",
       "      <td>1</td>\n",
       "      <td>1</td>\n",
       "      <td>1</td>\n",
       "    </tr>\n",
       "    <tr>\n",
       "      <th>https://globe.lightning.force.com/one/one.app</th>\n",
       "      <td>53</td>\n",
       "      <td>53</td>\n",
       "      <td>53</td>\n",
       "      <td>53</td>\n",
       "      <td>53</td>\n",
       "      <td>53</td>\n",
       "    </tr>\n",
       "  </tbody>\n",
       "</table>\n",
       "</div>"
      ],
      "text/plain": [
       "                                                    Datetime  User ID  \\\n",
       "URL                                                                     \n",
       "https://globe.lightning.force.com/lightning/o/C...         1        1   \n",
       "https://globe.lightning.force.com/lightning/o/E...         2        2   \n",
       "https://globe.lightning.force.com/lightning/r/A...         1        1   \n",
       "https://globe.lightning.force.com/lightning/r/C...         2        2   \n",
       "https://globe.lightning.force.com/lightning/r/D...         1        1   \n",
       "https://globe.lightning.force.com/lightning/r/E...         1        1   \n",
       "https://globe.lightning.force.com/lightning/r/E...         5        5   \n",
       "https://globe.lightning.force.com/lightning/r/O...         1        1   \n",
       "https://globe.lightning.force.com/one/one.app             53       53   \n",
       "\n",
       "                                                    Interaction Type  \\\n",
       "URL                                                                    \n",
       "https://globe.lightning.force.com/lightning/o/C...                 1   \n",
       "https://globe.lightning.force.com/lightning/o/E...                 2   \n",
       "https://globe.lightning.force.com/lightning/r/A...                 1   \n",
       "https://globe.lightning.force.com/lightning/r/C...                 2   \n",
       "https://globe.lightning.force.com/lightning/r/D...                 1   \n",
       "https://globe.lightning.force.com/lightning/r/E...                 1   \n",
       "https://globe.lightning.force.com/lightning/r/E...                 5   \n",
       "https://globe.lightning.force.com/lightning/r/O...                 1   \n",
       "https://globe.lightning.force.com/one/one.app                     53   \n",
       "\n",
       "                                                    Item Name  Date and Time  \\\n",
       "URL                                                                            \n",
       "https://globe.lightning.force.com/lightning/o/C...          1              1   \n",
       "https://globe.lightning.force.com/lightning/o/E...          2              2   \n",
       "https://globe.lightning.force.com/lightning/r/A...          1              1   \n",
       "https://globe.lightning.force.com/lightning/r/C...          2              2   \n",
       "https://globe.lightning.force.com/lightning/r/D...          1              1   \n",
       "https://globe.lightning.force.com/lightning/r/E...          1              1   \n",
       "https://globe.lightning.force.com/lightning/r/E...          5              5   \n",
       "https://globe.lightning.force.com/lightning/r/O...          1              1   \n",
       "https://globe.lightning.force.com/one/one.app              53             53   \n",
       "\n",
       "                                                    date  \n",
       "URL                                                       \n",
       "https://globe.lightning.force.com/lightning/o/C...     1  \n",
       "https://globe.lightning.force.com/lightning/o/E...     2  \n",
       "https://globe.lightning.force.com/lightning/r/A...     1  \n",
       "https://globe.lightning.force.com/lightning/r/C...     2  \n",
       "https://globe.lightning.force.com/lightning/r/D...     1  \n",
       "https://globe.lightning.force.com/lightning/r/E...     1  \n",
       "https://globe.lightning.force.com/lightning/r/E...     5  \n",
       "https://globe.lightning.force.com/lightning/r/O...     1  \n",
       "https://globe.lightning.force.com/one/one.app         53  "
      ]
     },
     "execution_count": 69,
     "metadata": {},
     "output_type": "execute_result"
    }
   ],
   "source": [
    "df[(df['Interaction Type']=='Launcher')& (df['Item Name']=='ActionBot - Test 1/26')].groupby('URL').count()"
   ]
  },
  {
   "cell_type": "code",
   "execution_count": null,
   "metadata": {},
   "outputs": [],
   "source": []
  },
  {
   "cell_type": "code",
   "execution_count": null,
   "metadata": {},
   "outputs": [],
   "source": []
  },
  {
   "cell_type": "code",
   "execution_count": null,
   "metadata": {},
   "outputs": [],
   "source": []
  },
  {
   "cell_type": "code",
   "execution_count": 43,
   "metadata": {
    "scrolled": true
   },
   "outputs": [
    {
     "name": "stderr",
     "output_type": "stream",
     "text": [
      "C:\\Users\\Service Unit\\anaconda3\\lib\\site-packages\\seaborn\\_decorators.py:36: FutureWarning: Pass the following variable as a keyword arg: x. From version 0.12, the only valid positional argument will be `data`, and passing other arguments without an explicit keyword will result in an error or misinterpretation.\n",
      "  warnings.warn(\n"
     ]
    },
    {
     "data": {
      "text/plain": [
       "<seaborn.axisgrid.FacetGrid at 0x17305911370>"
      ]
     },
     "execution_count": 43,
     "metadata": {},
     "output_type": "execute_result"
    },
    {
     "data": {
      "image/png": "[encoded data removed]",
      "text/plain": [
       "<Figure size 360x360 with 1 Axes>"
      ]
     },
     "metadata": {
      "needs_background": "light"
     },
     "output_type": "display_data"
    }
   ],
   "source": [
    "sns.catplot('date',data=(df[df['Interaction Type']=='ShoutOut']),kind='count')"
   ]
  },
  {
   "cell_type": "code",
   "execution_count": 45,
   "metadata": {},
   "outputs": [
    {
     "name": "stderr",
     "output_type": "stream",
     "text": [
      "C:\\Users\\Service Unit\\anaconda3\\lib\\site-packages\\seaborn\\_decorators.py:36: FutureWarning: Pass the following variable as a keyword arg: x. From version 0.12, the only valid positional argument will be `data`, and passing other arguments without an explicit keyword will result in an error or misinterpretation.\n",
      "  warnings.warn(\n"
     ]
    },
    {
     "data": {
      "text/plain": [
       "<seaborn.axisgrid.FacetGrid at 0x17305a655b0>"
      ]
     },
     "execution_count": 45,
     "metadata": {},
     "output_type": "execute_result"
    },
    {
     "data": {
      "image/png": "[encoded data removed]",
      "text/plain": [
       "<Figure size 360x360 with 1 Axes>"
      ]
     },
     "metadata": {
      "needs_background": "light"
     },
     "output_type": "display_data"
    }
   ],
   "source": [
    "sns.catplot('date',data=(df[df['Interaction Type']=='Player']),kind='count').set_xticklabels(rotation=45)"
   ]
  },
  {
   "cell_type": "code",
   "execution_count": 41,
   "metadata": {},
   "outputs": [
    {
     "data": {
      "text/plain": [
       "<seaborn.axisgrid.FacetGrid at 0x17303d02640>"
      ]
     },
     "execution_count": 41,
     "metadata": {},
     "output_type": "execute_result"
    },
    {
     "data": {
      "image/png": "[encoded data removed]",
      "text/plain": [
       "<Figure size 324x1296 with 6 Axes>"
      ]
     },
     "metadata": {
      "needs_background": "light"
     },
     "output_type": "display_data"
    }
   ],
   "source": [
    "fac = sns.FacetGrid(df, row=\"Interaction Type\",aspect=1.5)\n",
    "fac.map(sns.histplot, \"date\",bins=500).set_xticklabels(rotation=75)"
   ]
  },
  {
   "cell_type": "code",
   "execution_count": null,
   "metadata": {},
   "outputs": [],
   "source": []
  }
 ],
 "metadata": {
  "kernelspec": {
   "display_name": "Python 3",
   "language": "python",
   "name": "python3"
  },
  "language_info": {
   "codemirror_mode": {
    "name": "ipython",
    "version": 3
   },
   "file_extension": ".py",
   "mimetype": "text/x-python",
   "name": "python",
   "nbconvert_exporter": "python",
   "pygments_lexer": "ipython3",
   "version": "3.8.5"
  }
 },
 "nbformat": 4,
 "nbformat_minor": 4
}
